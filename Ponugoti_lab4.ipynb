{
 "cells": [
  {
   "cell_type": "markdown",
   "id": "bd3ce338",
   "metadata": {},
   "source": [
    "Github URL Link: "
   ]
  },
  {
   "cell_type": "code",
   "execution_count": 76,
   "id": "e39c337f",
   "metadata": {},
   "outputs": [],
   "source": [
    "import json\n",
    "import requests\n",
    "import datetime "
   ]
  },
  {
   "cell_type": "code",
   "execution_count": 148,
   "id": "4c928167",
   "metadata": {},
   "outputs": [
    {
     "name": "stdout",
     "output_type": "stream",
     "text": [
      "aapl\n"
     ]
    }
   ],
   "source": [
    "# Takes user input for a stock\n",
    "stock = input()"
   ]
  },
  {
   "cell_type": "code",
   "execution_count": 168,
   "id": "34d0588d",
   "metadata": {},
   "outputs": [],
   "source": [
    "results = {}\n",
    "urlQuote = 'https://query1.finance.yahoo.com/v7/finance/quote'\n",
    "querystring = {\"symbols\": stock}\n",
    "header_var ={\n",
    "    'User-Agent': 'Mozilla/5.0 (Macintosh; Intel Mac OS X 10_10_1) AppleWebKit/537.36 (KHTML, like Gecko) Chrome/39.0.2171.95 Safari/537.36'}\n",
    "\n",
    "try:\n",
    "    response = requests.request(\"GET\",urlQuote, headers=header_var,params=querystring)\n",
    "    response.raise_for_status()\n",
    "    stock_json = response.json()\n",
    "    response.raise_for_status()\n",
    "    \n",
    "    # Name ticker\n",
    "    results[\"Name Ticker\"] = stock_json['quoteResponse']['result'][0]['symbol']\n",
    "\n",
    "    # Full Name of the Stock\n",
    "    results[\"Full Name of Stock\"] = stock_json['quoteResponse']['result'][0]['longName']\n",
    "\n",
    "# Handling errors, note: got http and connection error syntax from 04-python-api-data notebook in ds2002 class github\n",
    "except IndexError:\n",
    "    print(\"This stock does not exist\")\n",
    "except requests.exceptions.HTTPError:\n",
    "    print(\"Http Error Ocurred\")\n",
    "except requests.exceptions.ConnectionError:\n",
    "    print(\"There was an error connecting to the API\")\n"
   ]
  },
  {
   "cell_type": "code",
   "execution_count": 169,
   "id": "3eebc14d",
   "metadata": {},
   "outputs": [],
   "source": [
    "urlQuote2 = 'https://query1.finance.yahoo.com/v10/finance/quoteSummary/'\n",
    "querystring2 = {\"symbol\": stock, \"modules\":\"financialData\"}\n",
    "header_var2 ={\n",
    "    'User-Agent': 'Mozilla/5.0 (Macintosh; Intel Mac OS X 10_10_1) AppleWebKit/537.36 (KHTML, like Gecko) Chrome/39.0.2171.95 Safari/537.36'}\n",
    "\n",
    "try:\n",
    "    response2 = requests.request(\"GET\",urlQuote2, headers=header_var2,params=querystring2)\n",
    "    response2.raise_for_status()\n",
    "    stock_json2 = response2.json()\n",
    "\n",
    "\n",
    "    # Current Price\n",
    "    results[\"Current Price\"] = stock_json2['quoteSummary']['result'][0]['financialData']['currentPrice']['fmt']\n",
    "\n",
    "    # Target Mean Price\n",
    "    results[\"Target Mean Price\"] = stock_json2['quoteSummary']['result'][0]['financialData']['targetMeanPrice']['fmt']\n",
    "\n",
    "    # Cash on Hand\n",
    "    results[\"Cash on Hand\"] = stock_json2['quoteSummary']['result'][0]['financialData']['totalCash']['fmt']\n",
    "\n",
    "    # Profit Margins\n",
    "    results[\"Profit Margins\"] = stock_json2['quoteSummary']['result'][0]['financialData']['profitMargins']['fmt']\n",
    "\n",
    "    # Date of when Data was pulled\n",
    "    date = datetime.date.today()\n",
    "    results[\"Date of Data Pull\"] = date.strftime(\"%m-%d-%Y\")\n",
    "\n",
    "# Handling errors, note: got http and connection error syntax from 04-python-api-data notebook in ds2002 class github\n",
    "except TypeError:\n",
    "    print(\"This stock does not exist\")\n",
    "except requests.exceptions.HTTPError:\n",
    "    print(\"Http Error Ocurred\")\n",
    "except requests.exceptions.ConnectionError:\n",
    "    print(\"There was an error connecting to the API\")"
   ]
  },
  {
   "cell_type": "code",
   "execution_count": 170,
   "id": "9f84a08a",
   "metadata": {},
   "outputs": [
    {
     "data": {
      "text/plain": [
       "'{\"Name Ticker\": \"AAPL\", \"Full Name of Stock\": \"Apple Inc.\", \"Current Price\": \"138.38\", \"Target Mean Price\": \"183.16\", \"Cash on Hand\": \"48.23B\", \"Profit Margins\": \"25.71%\", \"Date of Data Pull\": \"10-14-2022\"}'"
      ]
     },
     "execution_count": 170,
     "metadata": {},
     "output_type": "execute_result"
    }
   ],
   "source": [
    "# Storing results locally in json format\n",
    "json_format = json.dumps(results)\n",
    "json_format"
   ]
  }
 ],
 "metadata": {
  "kernelspec": {
   "display_name": "Python 3 (ipykernel)",
   "language": "python",
   "name": "python3"
  },
  "language_info": {
   "codemirror_mode": {
    "name": "ipython",
    "version": 3
   },
   "file_extension": ".py",
   "mimetype": "text/x-python",
   "name": "python",
   "nbconvert_exporter": "python",
   "pygments_lexer": "ipython3",
   "version": "3.9.12"
  }
 },
 "nbformat": 4,
 "nbformat_minor": 5
}
